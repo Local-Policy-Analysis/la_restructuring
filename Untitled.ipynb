{
 "cells": [
  {
   "cell_type": "code",
   "execution_count": 17,
   "id": "91631e3a",
   "metadata": {},
   "outputs": [],
   "source": [
    "import pandas as pd\n",
    "\n",
    "def restructure(df, from_year, to_year):\n",
    "    '''\n",
    "    Function to change the local authority structure from a given start point to a new year's structure. Will replace old\n",
    "    ons code and ecode to new codes, and appends columns with new LA name and LA class\n",
    "    \n",
    "    df: dataframe to be restructured\n",
    "    from_year: integer representing the financial year of the starting LA structure. Note financial year 2022-23 would be 2022. \n",
    "    Must be smaller than to_year.\n",
    "    to_year: integer representing the financial year of the desired LA structure. Must be larger than from_year.\n",
    "    \n",
    "    returns: dataframe post restructuring\n",
    "    \n",
    "    requisites: import pandas as pd\n",
    "    # to do: LA names were taken from ONS code history database but there are duplicate names since for e.g. Essex refers to the SC and the FRA\n",
    "    '''\n",
    "    assert to_year > from_year, 'to_year is less than from_year'\n",
    "    df_lookup = pd.read_table(\"./bin/la_structure.tsv\")\n",
    "    df = (df[['ons_code']]\n",
    "          .merge(df_lookup[[f'ons_code_{from_year}', f'ecode_{from_year}',f'authority_{from_year}',f'class_{from_year}',f'ons_code_{to_year}',f'ecode_{to_year}',f'authority_{to_year}',f'class_{to_year}']]\n",
    "                 .drop_duplicates(),\n",
    "                 left_on='ons_code',\n",
    "                 right_on=f'ons_code_{from_year}',\n",
    "                 how='left')\n",
    "          )\n",
    "    return df"
   ]
  },
  {
   "cell_type": "code",
   "execution_count": 26,
   "id": "b18a5a0c",
   "metadata": {},
   "outputs": [
    {
     "data": {
      "text/html": [
       "<div>\n",
       "<style scoped>\n",
       "    .dataframe tbody tr th:only-of-type {\n",
       "        vertical-align: middle;\n",
       "    }\n",
       "\n",
       "    .dataframe tbody tr th {\n",
       "        vertical-align: top;\n",
       "    }\n",
       "\n",
       "    .dataframe thead th {\n",
       "        text-align: right;\n",
       "    }\n",
       "</style>\n",
       "<table border=\"1\" class=\"dataframe\">\n",
       "  <thead>\n",
       "    <tr style=\"text-align: right;\">\n",
       "      <th></th>\n",
       "      <th>ons_code</th>\n",
       "      <th>ons_code_2013</th>\n",
       "      <th>ecode_2013</th>\n",
       "      <th>authority_2013</th>\n",
       "      <th>class_2013</th>\n",
       "      <th>ons_code_2023</th>\n",
       "      <th>ecode_2023</th>\n",
       "      <th>authority_2023</th>\n",
       "      <th>class_2023</th>\n",
       "    </tr>\n",
       "  </thead>\n",
       "  <tbody>\n",
       "    <tr>\n",
       "      <th>92</th>\n",
       "      <td>E10000009</td>\n",
       "      <td>E10000009</td>\n",
       "      <td>E1221</td>\n",
       "      <td>Dorset</td>\n",
       "      <td>SC</td>\n",
       "      <td>Abolished</td>\n",
       "      <td>Abolished</td>\n",
       "      <td>County Abolished</td>\n",
       "      <td>ABOLISHED</td>\n",
       "    </tr>\n",
       "    <tr>\n",
       "      <th>93</th>\n",
       "      <td>E31000012</td>\n",
       "      <td>E31000012</td>\n",
       "      <td>E6112</td>\n",
       "      <td>Dorset</td>\n",
       "      <td>FRA</td>\n",
       "      <td>E31000047</td>\n",
       "      <td>E6162</td>\n",
       "      <td>Dorset &amp; Wiltshire</td>\n",
       "      <td>FRA</td>\n",
       "    </tr>\n",
       "  </tbody>\n",
       "</table>\n",
       "</div>"
      ],
      "text/plain": [
       "     ons_code ons_code_2013 ecode_2013 authority_2013 class_2013  \\\n",
       "92  E10000009     E10000009      E1221         Dorset         SC   \n",
       "93  E31000012     E31000012      E6112         Dorset        FRA   \n",
       "\n",
       "   ons_code_2023 ecode_2023      authority_2023 class_2023  \n",
       "92     Abolished  Abolished    County Abolished  ABOLISHED  \n",
       "93     E31000047      E6162  Dorset & Wiltshire        FRA  "
      ]
     },
     "execution_count": 26,
     "metadata": {},
     "output_type": "execute_result"
    }
   ],
   "source": [
    "df = pd.read_excel('./to_restructure.xlsx')\n",
    "df = restructure(df, 2013, 2023)\n",
    "df[df.authority_2013 == \"Dorset\"]"
   ]
  },
  {
   "cell_type": "code",
   "execution_count": 13,
   "id": "85f0a268",
   "metadata": {},
   "outputs": [
    {
     "data": {
      "text/plain": [
       "['ons_code_2013',\n",
       " 'e_code_2013',\n",
       " 'authority_2013',\n",
       " 'class_2013',\n",
       " 'ons_code_2023',\n",
       " 'e_code_2023',\n",
       " 'authority_2023',\n",
       " 'class_2023']"
      ]
     },
     "execution_count": 13,
     "metadata": {},
     "output_type": "execute_result"
    }
   ],
   "source": [
    "from_year = 2013\n",
    "to_year = 2023\n",
    "df_lookup\n",
    "[f'ons_code_{from_year}', f'ecode_{from_year}',f'authority_{from_year}',f'class_{from_year}',f'ons_code_{to_year}',f'ecode_{to_year}',f'authority_{to_year}',f'class_{to_year}']"
   ]
  },
  {
   "cell_type": "code",
   "execution_count": 16,
   "id": "0571cdde",
   "metadata": {},
   "outputs": [],
   "source": [
    "    assert to_year > from_year, 'to_year is less than from_year'\n",
    "    df_lookup = pd.read_table(\"./bin/la_structure.tsv\")\n",
    "    a = df_lookup[[f'ons_code_{from_year}', f'ecode_{from_year}',f'authority_{from_year}',f'class_{from_year}',f'ons_code_{to_year}',f'ecode_{to_year}',f'authority_{to_year}',f'class_{to_year}']]"
   ]
  }
 ],
 "metadata": {
  "kernelspec": {
   "display_name": "Python 3 (ipykernel)",
   "language": "python",
   "name": "python3"
  },
  "language_info": {
   "codemirror_mode": {
    "name": "ipython",
    "version": 3
   },
   "file_extension": ".py",
   "mimetype": "text/x-python",
   "name": "python",
   "nbconvert_exporter": "python",
   "pygments_lexer": "ipython3",
   "version": "3.9.7"
  }
 },
 "nbformat": 4,
 "nbformat_minor": 5
}
